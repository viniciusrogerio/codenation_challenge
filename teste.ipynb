{
  "nbformat": 4,
  "nbformat_minor": 0,
  "metadata": {
    "colab": {
      "name": "Untitled0.ipynb",
      "provenance": [],
      "collapsed_sections": [],
      "authorship_tag": "ABX9TyOJM+8NWnskwFnvVzs9o9f5"
    },
    "kernelspec": {
      "name": "python3",
      "display_name": "Python 3"
    }
  },
  "cells": [
    {
      "cell_type": "code",
      "metadata": {
        "id": "RSB5dSX5X3g8",
        "colab_type": "code",
        "colab": {
          "base_uri": "https://localhost:8080/",
          "height": 34
        },
        "outputId": "d893c1ac-c228-4b7e-8d0b-28cc56c24216"
      },
      "source": [
        "import string\n",
        "\n",
        "alphabet = string.ascii_lowercase\n",
        "\n",
        "for letter in alphabet:\n",
        "  print(letter,end=\" \")"
      ],
      "execution_count": 1,
      "outputs": [
        {
          "output_type": "stream",
          "text": [
            "a b c d e f g h i j k l m n o p q r s t u v w x y z "
          ],
          "name": "stdout"
        }
      ]
    },
    {
      "cell_type": "markdown",
      "metadata": {
        "id": "noDJYaOQYKRN",
        "colab_type": "text"
      },
      "source": [
        "Now a new example:"
      ]
    },
    {
      "cell_type": "code",
      "metadata": {
        "id": "OQuH6uLLYMAR",
        "colab_type": "code",
        "colab": {
          "base_uri": "https://localhost:8080/",
          "height": 34
        },
        "outputId": "64dc485d-dd47-4738-c7ed-fd42b23b9759"
      },
      "source": [
        "for number in range (1,11):\n",
        "  print(number,end = \" \")"
      ],
      "execution_count": 2,
      "outputs": [
        {
          "output_type": "stream",
          "text": [
            "1 2 3 4 5 6 7 8 9 10 "
          ],
          "name": "stdout"
        }
      ]
    }
  ]
}