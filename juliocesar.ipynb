{
 "cells": [
  {
   "cell_type": "markdown",
   "metadata": {},
   "source": [
    "# Desafio AceleraDev Codenation\n",
    "***\n",
    "### Criptografia de Júlio César\n"
   ]
  },
  {
   "cell_type": "code",
   "execution_count": null,
   "metadata": {
    "scrolled": false
   },
   "outputs": [],
   "source": [
    "import requests\n",
    "import json\n",
    "import string\n",
    "import hashlib"
   ]
  },
  {
   "cell_type": "code",
   "execution_count": null,
   "metadata": {},
   "outputs": [],
   "source": [
    "# Getting data from Codenation API using personal Token\n",
    "my_token = '049c9c550834eadd24884a00015716df5e625ff5'\n",
    "r = requests.get(f'https://api.codenation.dev/v1/challenge/dev-ps/generate-data?token={my_token}')"
   ]
  },
  {
   "cell_type": "code",
   "execution_count": null,
   "metadata": {},
   "outputs": [],
   "source": [
    "# Using r.json() to further dump in proper format\n",
    "json_data = r.json()"
   ]
  },
  {
   "cell_type": "code",
   "execution_count": null,
   "metadata": {},
   "outputs": [],
   "source": [
    "# Creating a new .json file named answer.json\n",
    "json_file = open('answer.json','w',encoding='utf-8')"
   ]
  },
  {
   "cell_type": "code",
   "execution_count": null,
   "metadata": {},
   "outputs": [],
   "source": [
    "# Writing the json data we requested\n",
    "json_file.seek(0)\n",
    "json.dump(json_data,json_file)"
   ]
  },
  {
   "cell_type": "code",
   "execution_count": null,
   "metadata": {},
   "outputs": [],
   "source": [
    "# Storing needed infos\n",
    "steps = json_data[\"numero_casas\"]\n",
    "encrypted = json_data[\"cifrado\"].lower()\n",
    "decrypted = ''"
   ]
  },
  {
   "cell_type": "code",
   "execution_count": null,
   "metadata": {},
   "outputs": [],
   "source": [
    "# Decrypting\n",
    "alphabet = string.ascii_lowercase\n",
    "\n",
    "for char in encrypted:\n",
    "\tif char in alphabet:\n",
    "\t\tcurrent_index = alphabet.index(char)\n",
    "\t\tnew_index = current_index - steps\n",
    "\t\tdecrypted += alphabet[new_index]\n",
    "\telse:\n",
    "\t\tdecrypted += char\n",
    "\n",
    "decrypted = decrypted.lower()"
   ]
  },
  {
   "cell_type": "code",
   "execution_count": null,
   "metadata": {},
   "outputs": [],
   "source": [
    "# Now updating the .json file with the decrypted text\n",
    "json_data[\"decifrado\"] = decrypted\n",
    "json_file.seek(0)\n",
    "json.dump(json_data,json_file)"
   ]
  },
  {
   "cell_type": "code",
   "execution_count": null,
   "metadata": {},
   "outputs": [],
   "source": [
    "# Generating a digest and then updating the .json file again\n",
    "json_data[\"resumo_criptografico\"] = hashlib.sha1(decrypted.encode('utf-8')).hexdigest()\n",
    "json_file.seek(0)\n",
    "json.dump(json_data,json_file)\n",
    "\n",
    "json_file.close()"
   ]
  },
  {
   "cell_type": "code",
   "execution_count": null,
   "metadata": {},
   "outputs": [],
   "source": [
    "# Submitting solution via POST\n",
    "solution_file = open('answer.json','r')\n",
    "answer = {\"answer\":solution_file}\n",
    "response = requests.post(f'https://api.codenation.dev/v1/challenge/dev-ps/submit-solution?token={my_token}', files = answer)"
   ]
  },
  {
   "cell_type": "code",
   "execution_count": null,
   "metadata": {},
   "outputs": [],
   "source": [
    "print(response.text)"
   ]
  }
 ],
 "metadata": {
  "kernelspec": {
   "display_name": "Python 3",
   "language": "python",
   "name": "python3"
  },
  "language_info": {
   "codemirror_mode": {
    "name": "ipython",
    "version": 3
   },
   "file_extension": ".py",
   "mimetype": "text/x-python",
   "name": "python",
   "nbconvert_exporter": "python",
   "pygments_lexer": "ipython3",
   "version": "3.8.2"
  }
 },
 "nbformat": 4,
 "nbformat_minor": 4
}
