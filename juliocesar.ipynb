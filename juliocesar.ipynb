{
 "cells": [
  {
   "cell_type": "markdown",
   "metadata": {},
   "source": [
    "# Desafio AceleraDev Codenation\n",
    "***\n",
    "### Criptografia de Júlio César\n"
   ]
  },
  {
   "cell_type": "markdown",
   "metadata": {},
   "source": [
    "Das Criptografias mais curiosas na história da humanidade podemos citar a criptografia utilizada pelo grande líder militar romano Júlio César para comunicar com os seus generais. Essa criptografia se baseia na substituição da letra do alfabeto avançado um determinado número de casas. Por exemplo, considerando o número de casas = 3:\n",
    "\n",
    "> Normal: a ligeira raposa marrom saltou sobre o cachorro cansado <br>\n",
    "> Cifrado: `d oljhlud udsrvd pduurp vdowrx vreuh r fdfkruur fdqvdgr`\n",
    "\n",
    "### Regras\n",
    "As mensagens serão convertidas para minúsculas tanto para a criptografia quanto para descriptografia. No nosso caso os números e pontos serão mantidos, ou seja:\n",
    "\n",
    "> Normal: 1a.a<br> \n",
    "> Cifrado: `1d.d`\n",
    "\n",
    "Escrever programa, em qualquer linguagem de programação, que faça uma requisição HTTP para a url abaixo:\n",
    "\n",
    "https://api.codenation.dev/v1/challenge/dev-ps/generate-data?token=SEU_TOKEN\n",
    "\n",
    "O resultado da requisição vai ser um JSON conforme o exemplo:\n",
    "\n",
    ">{ \"numero_casas\": 10,<br>    \"token\":\"token_do_usuario\",<br>    \"cifrado\": \"texto criptografado\",<br>    \"decifrado\": \"aqui vai o texto decifrado\",<br>    \"resumo_criptografico\": \"aqui vai o resumo\" }\n",
    "\n",
    "O primeiro passo é você salvar o conteúdo do JSON em um arquivo com o nome answer.json, que irá usar no restante do desafio.\n",
    "\n",
    "Você deve usar o número de casas para decifrar o texto e atualizar o arquivo JSON, no campo decifrado. O próximo passo é gerar um resumo criptográfico do texto decifrado usando o algoritmo sha1 e atualizar novamente o arquivo JSON. OBS: você pode usar qualquer biblioteca de criptografia da sua linguagem de programação favorita para gerar o resumo sha1 do texto decifrado.\n",
    "\n",
    "Seu programa deve submeter o arquivo atualizado para correção via POST para a API:\n",
    "\n",
    "https://api.codenation.dev/v1/challenge/dev-ps/submit-solution?token=SEU_TOKEN\n",
    "\n",
    "OBS: a API espera um arquivo sendo enviado como multipart/form-data, como se fosse enviado por um formulário HTML, com um campo do tipo file com o nome answer. Considere isso ao enviar o arquivo.\n",
    "\n",
    "O resultado da submissão vai ser sua nota ou o erro correspondente. Você pode submeter quantas vezes achar necessário, mas a API não vai permitir mais de uma submissão por minuto.\n",
    "\n"
   ]
  },
  {
   "cell_type": "markdown",
   "metadata": {},
   "source": [
    "### [Veja aqui a solução proposta](https://github.com/viniciusrogerio/desafio_codenation/blob/master/solucao_final.py)"
   ]
  }
 ],
 "metadata": {
  "kernelspec": {
   "display_name": "Python 3",
   "language": "python",
   "name": "python3"
  },
  "language_info": {
   "codemirror_mode": {
    "name": "ipython",
    "version": 3
   },
   "file_extension": ".py",
   "mimetype": "text/x-python",
   "name": "python",
   "nbconvert_exporter": "python",
   "pygments_lexer": "ipython3",
   "version": "3.8.2"
  }
 },
 "nbformat": 4,
 "nbformat_minor": 4
}
